{
 "cells": [
  {
   "cell_type": "code",
   "execution_count": 5,
   "id": "b0d606cb",
   "metadata": {},
   "outputs": [
    {
     "name": "stdout",
     "output_type": "stream",
     "text": [
      "Failed to fetch the search results page\n"
     ]
    },
    {
     "ename": "TypeError",
     "evalue": "'NoneType' object is not iterable",
     "output_type": "error",
     "traceback": [
      "\u001b[1;31m---------------------------------------------------------------------------\u001b[0m",
      "\u001b[1;31mTypeError\u001b[0m                                 Traceback (most recent call last)",
      "Cell \u001b[1;32mIn[5], line 35\u001b[0m\n\u001b[0;32m     33\u001b[0m \u001b[38;5;28;01mif\u001b[39;00m \u001b[38;5;18m__name__\u001b[39m \u001b[38;5;241m==\u001b[39m \u001b[38;5;124m\"\u001b[39m\u001b[38;5;124m__main__\u001b[39m\u001b[38;5;124m\"\u001b[39m:\n\u001b[0;32m     34\u001b[0m     sneakers \u001b[38;5;241m=\u001b[39m scrape_flipkart_sneakers()\n\u001b[1;32m---> 35\u001b[0m     \u001b[38;5;28;01mfor\u001b[39;00m idx, sneaker \u001b[38;5;129;01min\u001b[39;00m \u001b[38;5;28menumerate\u001b[39m(sneakers, start\u001b[38;5;241m=\u001b[39m\u001b[38;5;241m1\u001b[39m):\n\u001b[0;32m     36\u001b[0m         \u001b[38;5;28mprint\u001b[39m(\u001b[38;5;124mf\u001b[39m\u001b[38;5;124m\"\u001b[39m\u001b[38;5;124mSneaker \u001b[39m\u001b[38;5;132;01m{\u001b[39;00midx\u001b[38;5;132;01m}\u001b[39;00m\u001b[38;5;124m:\u001b[39m\u001b[38;5;124m\"\u001b[39m)\n\u001b[0;32m     37\u001b[0m         \u001b[38;5;28;01mfor\u001b[39;00m attribute, value \u001b[38;5;129;01min\u001b[39;00m sneaker\u001b[38;5;241m.\u001b[39mitems():\n",
      "\u001b[1;31mTypeError\u001b[0m: 'NoneType' object is not iterable"
     ]
    }
   ],
   "source": [
    "import requests\n",
    "from bs4 import BeautifulSoup\n",
    "\n",
    "def scrape_flipkart_sneakers():\n",
    "    url = \"https://www.flipkart.com/\"\n",
    "    search_query = \"sneakers\"\n",
    "    num_sneakers_to_scrape = 100\n",
    "    \n",
    "    # Step 1: Perform a search for sneakers\n",
    "    search_url = f\"{url}search?q={search_query}\"\n",
    "    response = requests.get(search_url)\n",
    "    if response.status_code != 200:\n",
    "        print(\"Failed to fetch the search results page\")\n",
    "        return\n",
    "    \n",
    "    # Step 2: Scrape data for the first 100 sneakers\n",
    "    sneaker_data = []\n",
    "    soup = BeautifulSoup(response.content, \"html.parser\")\n",
    "    sneakers = soup.find_all(\"div\", class_=\"_2B099V\")\n",
    "    for sneaker in sneakers[:num_sneakers_to_scrape]:\n",
    "        brand = sneaker.find(\"div\", class_=\"_2WkVRV\").text.strip()\n",
    "        description = sneaker.find(\"a\", class_=\"IRpwTa\").text.strip()\n",
    "        price = sneaker.find(\"div\", class_=\"_30jeq3\").text.strip()\n",
    "        \n",
    "        sneaker_data.append({\n",
    "            \"Brand\": brand,\n",
    "            \"Product Description\": description,\n",
    "            \"Price\": price\n",
    "        })\n",
    "    \n",
    "    return sneaker_data\n",
    "\n",
    "if __name__ == \"__main__\":\n",
    "    sneakers = scrape_flipkart_sneakers()\n",
    "    for idx, sneaker in enumerate(sneakers, start=1):\n",
    "        print(f\"Sneaker {idx}:\")\n",
    "        for attribute, value in sneaker.items():\n",
    "            print(f\"{attribute}: {value}\")\n",
    "        print()\n"
   ]
  },
  {
   "cell_type": "code",
   "execution_count": null,
   "id": "d38ef867",
   "metadata": {},
   "outputs": [],
   "source": []
  }
 ],
 "metadata": {
  "kernelspec": {
   "display_name": "Python 3 (ipykernel)",
   "language": "python",
   "name": "python3"
  },
  "language_info": {
   "codemirror_mode": {
    "name": "ipython",
    "version": 3
   },
   "file_extension": ".py",
   "mimetype": "text/x-python",
   "name": "python",
   "nbconvert_exporter": "python",
   "pygments_lexer": "ipython3",
   "version": "3.11.5"
  }
 },
 "nbformat": 4,
 "nbformat_minor": 5
}
