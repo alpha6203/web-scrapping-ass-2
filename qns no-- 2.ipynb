{
 "cells": [
  {
   "cell_type": "code",
   "execution_count": 8,
   "id": "9095458d",
   "metadata": {},
   "outputs": [
    {
     "name": "stdout",
     "output_type": "stream",
     "text": [
      "Empty DataFrame\n",
      "Columns: []\n",
      "Index: []\n"
     ]
    }
   ],
   "source": [
    "import requests\n",
    "from bs4 import BeautifulSoup\n",
    "import pandas as pd\n",
    "\n",
    "def scrape_data(job_title, location, num_jobs=10):\n",
    "    url = \"https://www.shine.com/\"\n",
    "    search_url = f\"{url}job-search/{job_title}-jobs-in-{location}\"\n",
    "    \n",
    "    # Sending GET request\n",
    "    response = requests.get(search_url)\n",
    "    if response.status_code != 200:\n",
    "        print(\"Failed to retrieve page\")\n",
    "        return None\n",
    "    \n",
    "    # Parsing HTML content\n",
    "    soup = BeautifulSoup(response.content, 'html.parser')\n",
    "    \n",
    "    # Scraping job details\n",
    "    jobs = []\n",
    "    for job in soup.find_all('li', class_='search_listing'):\n",
    "        job_title = job.find('h3').text.strip()\n",
    "        job_location = job.find('span', class_='location').text.strip()\n",
    "        company_name = job.find('a', class_='smbold').text.strip()\n",
    "        experience_required = job.find('li', class_='eligibility').text.strip()\n",
    "        \n",
    "        jobs.append({\n",
    "            'Job Title': job_title,\n",
    "            'Job Location': job_location,\n",
    "            'Company Name': company_name,\n",
    "            'Experience Required': experience_required\n",
    "        })\n",
    "        \n",
    "        if len(jobs) >= num_jobs:\n",
    "            break\n",
    "    \n",
    "    # Creating DataFrame\n",
    "    df = pd.DataFrame(jobs)\n",
    "    return df\n",
    "\n",
    "# Example usage\n",
    "job_title = \"Data Scientist\"\n",
    "location = \"Bangalore\"\n",
    "num_jobs = 10\n",
    "data_df = scrape_data(job_title, location, num_jobs)\n",
    "print(data_df)\n"
   ]
  },
  {
   "cell_type": "code",
   "execution_count": null,
   "id": "4a69e8c2",
   "metadata": {},
   "outputs": [],
   "source": []
  }
 ],
 "metadata": {
  "kernelspec": {
   "display_name": "Python 3 (ipykernel)",
   "language": "python",
   "name": "python3"
  },
  "language_info": {
   "codemirror_mode": {
    "name": "ipython",
    "version": 3
   },
   "file_extension": ".py",
   "mimetype": "text/x-python",
   "name": "python",
   "nbconvert_exporter": "python",
   "pygments_lexer": "ipython3",
   "version": "3.11.5"
  }
 },
 "nbformat": 4,
 "nbformat_minor": 5
}
