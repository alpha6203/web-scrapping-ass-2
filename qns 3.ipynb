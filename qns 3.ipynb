{
 "cells": [
  {
   "cell_type": "code",
   "execution_count": 4,
   "id": "04f2f576",
   "metadata": {},
   "outputs": [
    {
     "name": "stdout",
     "output_type": "stream",
     "text": [
      "Empty DataFrame\n",
      "Columns: []\n",
      "Index: []\n"
     ]
    }
   ],
   "source": [
    "import requests\n",
    "from bs4 import BeautifulSoup\n",
    "import pandas as pd\n",
    "\n",
    "# Function to scrape reviews from a given page\n",
    "def scrape_reviews(url):\n",
    "    response = requests.get(url)\n",
    "    soup = BeautifulSoup(response.text, 'html.parser')\n",
    "    reviews = soup.find_all('div', {'class': '_27M-vq'})\n",
    "    \n",
    "    data = []\n",
    "    for review in reviews:\n",
    "        rating = review.find('div', {'class': '_3LWZlK'}).text.strip()\n",
    "        review_summary = review.find('p', {'class': '_2-N8zT'}).text.strip()\n",
    "        full_review = review.find('div', {'class': 't-ZTKy'}).text.strip()\n",
    "        data.append({'Rating': rating, 'Review Summary': review_summary, 'Full Review': full_review})\n",
    "    \n",
    "    return data\n",
    "\n",
    "# Scrape reviews for the first 100 reviews\n",
    "reviews_data = []\n",
    "for i in range(1, 11):  # Iterate through 10 pages (10 reviews per page)\n",
    "    url = f'https://www.flipkart.com/apple-iphone-11-black-64-gb/product-reviews/itm4e5041ba101fd?pid=MOBFWQ6BXGJCEYNY&lid=LSTMOBFWQ6BXGJCEYNYZXSHRJ&marketplace=FLIPKART&page={i}'\n",
    "    reviews_data += scrape_reviews(url)\n",
    "\n",
    "# Convert data to DataFrame\n",
    "reviews_df = pd.DataFrame(reviews_data)\n",
    "print(reviews_df.head())\n"
   ]
  },
  {
   "cell_type": "code",
   "execution_count": 5,
   "id": "c5bf5ad2",
   "metadata": {},
   "outputs": [
    {
     "name": "stdout",
     "output_type": "stream",
     "text": [
      "Empty DataFrame\n",
      "Columns: []\n",
      "Index: []\n"
     ]
    }
   ],
   "source": [
    "import requests\n",
    "from bs4 import BeautifulSoup\n",
    "import pandas as pd\n",
    "\n",
    "# Function to scrape sneakers data from Flipkart\n",
    "def scrape_sneakers():\n",
    "    url = 'https://www.flipkart.com/search?q=sneakers'\n",
    "    response = requests.get(url)\n",
    "    soup = BeautifulSoup(response.text, 'html.parser')\n",
    "    products = soup.find_all('div', {'class': '_2kHMtA'})\n",
    "    \n",
    "    data = []\n",
    "    for product in products[:100]:\n",
    "        brand = product.find('div', {'class': '_2WkVRV'}).text.strip()\n",
    "        description = product.find('a', {'class': 'IRpwTa'}).text.strip()\n",
    "        price = product.find('div', {'class': '_30jeq3'}).text.strip()\n",
    "        data.append({'Brand': brand, 'Product Description': description, 'Price': price})\n",
    "    \n",
    "    return data\n",
    "\n",
    "# Scrape data for first 100 sneakers\n",
    "sneakers_data = scrape_sneakers()\n",
    "\n",
    "# Convert data to DataFrame\n",
    "sneakers_df = pd.DataFrame(sneakers_data)\n",
    "print(sneakers_df.head())\n"
   ]
  },
  {
   "cell_type": "code",
   "execution_count": null,
   "id": "ea90baa8",
   "metadata": {},
   "outputs": [],
   "source": []
  }
 ],
 "metadata": {
  "kernelspec": {
   "display_name": "Python 3 (ipykernel)",
   "language": "python",
   "name": "python3"
  },
  "language_info": {
   "codemirror_mode": {
    "name": "ipython",
    "version": 3
   },
   "file_extension": ".py",
   "mimetype": "text/x-python",
   "name": "python",
   "nbconvert_exporter": "python",
   "pygments_lexer": "ipython3",
   "version": "3.11.5"
  }
 },
 "nbformat": 4,
 "nbformat_minor": 5
}
